{
 "cells": [
  {
   "cell_type": "code",
   "execution_count": 10,
   "metadata": {},
   "outputs": [],
   "source": [
    "from langchain.output_parsers.openai_tools import JsonOutputToolsParser\n",
    "from langchain_community.chat_models import ChatOpenAI\n",
    "from langchain_core.prompts import ChatPromptTemplate\n",
    "from langchain_core.runnables import RunnableLambda\n",
    "from langchain.chains import create_extraction_chain\n",
    "from typing import Optional, List\n",
    "from langchain.chains import create_extraction_chain_pydantic\n",
    "from langchain_core.pydantic_v1 import BaseModel\n",
    "from langchain import hub"
   ]
  },
  {
   "cell_type": "code",
   "execution_count": 31,
   "metadata": {},
   "outputs": [],
   "source": [
    "obj = hub.pull(\"wfh/proposal-indexing\")\n",
    "llm = ChatOpenAI(model='gpt-3.5-turbo-1106', openai_api_key = os.getenv(\"OPENAI_API_KEY\", 'YouKey'))"
   ]
  },
  {
   "cell_type": "code",
   "execution_count": 33,
   "metadata": {},
   "outputs": [],
   "source": [
    "runnable = obj | llm"
   ]
  },
  {
   "cell_type": "code",
   "execution_count": 34,
   "metadata": {},
   "outputs": [],
   "source": [
    "with open('superlinear.txt') as file:\n",
    "    essay = file.read()"
   ]
  },
  {
   "cell_type": "code",
   "execution_count": 35,
   "metadata": {},
   "outputs": [],
   "source": [
    "class Sentences(BaseModel):\n",
    "    sentences: List[str]\n",
    "    \n",
    "# Extraction\n",
    "extraction_chain = create_extraction_chain_pydantic(pydantic_schema=Sentences, llm=llm)"
   ]
  },
  {
   "cell_type": "code",
   "execution_count": 36,
   "metadata": {},
   "outputs": [],
   "source": [
    "def get_propositions(text):\n",
    "    runnable_output = runnable.invoke({\n",
    "    \t\"input\": text\n",
    "    }).content\n",
    "    \n",
    "    propositions = extraction_chain.run(runnable_output)[0].sentences\n",
    "    return propositions"
   ]
  },
  {
   "cell_type": "code",
   "execution_count": 37,
   "metadata": {},
   "outputs": [],
   "source": [
    "\n",
    "paragraphs = essay.split(\"\\n\\n\")"
   ]
  },
  {
   "cell_type": "code",
   "execution_count": 38,
   "metadata": {},
   "outputs": [
    {
     "data": {
      "text/plain": [
       "53"
      ]
     },
     "execution_count": 38,
     "metadata": {},
     "output_type": "execute_result"
    }
   ],
   "source": [
    "\n",
    "len(paragraphs)"
   ]
  },
  {
   "cell_type": "code",
   "execution_count": 39,
   "metadata": {},
   "outputs": [
    {
     "name": "stdout",
     "output_type": "stream",
     "text": [
      "Done with 0\n",
      "Done with 1\n",
      "Done with 2\n",
      "Done with 3\n",
      "Done with 4\n"
     ]
    }
   ],
   "source": [
    "\n",
    "essay_propositions = []\n",
    "\n",
    "for i, para in enumerate(paragraphs[:5]):\n",
    "    propositions = get_propositions(para)\n",
    "    \n",
    "    essay_propositions.extend(propositions)\n",
    "    print (f\"Done with {i}\")"
   ]
  },
  {
   "cell_type": "code",
   "execution_count": 40,
   "metadata": {},
   "outputs": [
    {
     "name": "stdout",
     "output_type": "stream",
     "text": [
      "You have 26 propositions\n"
     ]
    },
    {
     "data": {
      "text/plain": [
       "['October 2023',\n",
       " \"One of the most important things I didn't understand about the world when I was a child is the degree to which the returns for performance are superlinear.\",\n",
       " \"I didn't understand one of the most important things about the world when I was a child.\",\n",
       " 'The returns for performance are superlinear.',\n",
       " \"The degree to which the returns for performance are superlinear is one of the most important things I didn't understand about the world when I was a child.\",\n",
       " 'Teachers implicitly told us the returns were linear.',\n",
       " 'Coaches implicitly told us the returns were linear.',\n",
       " \"I heard 'You get out what you put in' a thousand times.\",\n",
       " 'They meant well.',\n",
       " 'This is rarely true.']"
      ]
     },
     "execution_count": 40,
     "metadata": {},
     "output_type": "execute_result"
    }
   ],
   "source": [
    "\n",
    "print (f\"You have {len(essay_propositions)} propositions\")\n",
    "essay_propositions[:10]\n",
    "\n"
   ]
  },
  {
   "cell_type": "code",
   "execution_count": 41,
   "metadata": {},
   "outputs": [],
   "source": [
    "from agentic_chunker import AgenticChunker"
   ]
  },
  {
   "cell_type": "code",
   "execution_count": 42,
   "metadata": {},
   "outputs": [],
   "source": [
    "\n",
    "ac = AgenticChunker()"
   ]
  },
  {
   "cell_type": "code",
   "execution_count": 43,
   "metadata": {},
   "outputs": [
    {
     "name": "stdout",
     "output_type": "stream",
     "text": [
      "\n",
      "Adding: 'October 2023'\n",
      "No chunks, creating a new one\n",
      "Created new chunk (2ca72): Date & Times\n",
      "\n",
      "Adding: 'One of the most important things I didn't understand about the world when I was a child is the degree to which the returns for performance are superlinear.'\n",
      "No chunks found\n",
      "Created new chunk (1f4cf): Performance & Success Metrics\n",
      "\n",
      "Adding: 'I didn't understand one of the most important things about the world when I was a child.'\n",
      "No chunks found\n",
      "Created new chunk (af41b): Personal Growth & Realizations\n",
      "\n",
      "Adding: 'The returns for performance are superlinear.'\n",
      "Chunk Found (1f4cf), adding to: Performance & Success Metrics\n",
      "\n",
      "Adding: 'The degree to which the returns for performance are superlinear is one of the most important things I didn't understand about the world when I was a child.'\n",
      "Chunk Found (1f4cf), adding to: Superlinear Returns in Performance & Success\n",
      "\n",
      "Adding: 'Teachers implicitly told us the returns were linear.'\n",
      "Chunk Found (1f4cf), adding to: Understanding Superlinear Returns\n",
      "\n",
      "Adding: 'Coaches implicitly told us the returns were linear.'\n",
      "Chunk Found (1f4cf), adding to: Superlinear Returns & Performance Misconceptions\n",
      "\n",
      "Adding: 'I heard 'You get out what you put in' a thousand times.'\n",
      "Chunk Found (1f4cf), adding to: Performance Returns & Linear Misconceptions\n",
      "\n",
      "Adding: 'They meant well.'\n",
      "No chunks found\n",
      "Created new chunk (45128): Intentions & Motivations\n",
      "\n",
      "Adding: 'This is rarely true.'\n",
      "No chunks found\n",
      "Created new chunk (e62ca): Probability & Frequency\n",
      "\n",
      "Adding: 'If your product is only half as good as your competitor's, you don't get half as many customers.'\n",
      "No chunks found\n",
      "Created new chunk (08de9): Business Strategies & Outcomes\n",
      "\n",
      "Adding: 'You get no customers.'\n",
      "No chunks found\n",
      "Created new chunk (9f25a): Customer Shortage\n",
      "\n",
      "Adding: 'You go out of business.'\n",
      "No chunks found\n",
      "Created new chunk (399af): Business Closure & Failure\n",
      "\n",
      "Adding: 'It's obviously true that the returns for performance are superlinear in business.'\n",
      "Chunk Found (1f4cf), adding to: Superlinear vs. Linear Performance Returns\n",
      "\n",
      "Adding: 'Some think this is a flaw of capitalism.'\n",
      "No chunks found\n",
      "Created new chunk (0deb4): Critiques of Capitalism\n",
      "\n",
      "Adding: 'Some think that if we changed the rules it would stop being true.'\n",
      "Chunk Found (45128), adding to: Intentions & Motivations\n",
      "\n",
      "Adding: 'But superlinear returns for performance are a feature of the world, not an artifact of rules we've invented.'\n",
      "Chunk Found (1f4cf), adding to: Performance Returns & Misconceptions\n",
      "\n",
      "Adding: 'We see the same pattern in fame.'\n",
      "No chunks found\n",
      "Created new chunk (7798f): Fame Dynamics\n",
      "\n",
      "Adding: 'We see the same pattern in power.'\n",
      "No chunks found\n",
      "Created new chunk (703ed): Power Dynamics Observations\n",
      "\n",
      "Adding: 'We see the same pattern in military victories.'\n",
      "Chunk Found (45128), adding to: Intentions, Motivations & Rule Changes\n",
      "\n",
      "Adding: 'We see the same pattern in knowledge.'\n",
      "Chunk Found (45128), adding to: Intentions, Outcomes & Patterns\n",
      "\n",
      "Adding: 'We see the same pattern in benefit to humanity.'\n",
      "Chunk Found (45128), adding to: Intentions, Rule Changes & Recurring Patterns\n",
      "\n",
      "Adding: 'In all of these, the rich get richer.'\n",
      "Chunk Found (0deb4), adding to: Critiques of Capitalism\n",
      "\n",
      "Adding: 'You can't understand the world without understanding the concept of superlinear returns.'\n",
      "Chunk Found (1f4cf), adding to: Superlinear Returns on Performance\n",
      "\n",
      "Adding: 'If you're ambitious you definitely should understand the concept of superlinear returns.'\n",
      "Chunk Found (1f4cf), adding to: Understanding Superlinear Returns\n",
      "\n",
      "Adding: 'Understanding the concept of superlinear returns will be the wave you surf on.'\n",
      "Chunk Found (1f4cf), adding to: Superlinear Returns & Performance Implications\n"
     ]
    }
   ],
   "source": [
    "ac.add_propositions(essay_propositions)"
   ]
  },
  {
   "cell_type": "code",
   "execution_count": 44,
   "metadata": {},
   "outputs": [
    {
     "name": "stdout",
     "output_type": "stream",
     "text": [
      "\n",
      "You have 11 chunks\n",
      "\n",
      "Chunk #0\n",
      "Chunk ID: 2ca72\n",
      "Summary: This chunk contains information about dates and times.\n",
      "Propositions:\n",
      "    -October 2023\n",
      "\n",
      "\n",
      "\n",
      "Chunk #1\n",
      "Chunk ID: 1f4cf\n",
      "Summary: This chunk discusses the concept of superlinear returns for performance, emphasizing its importance in various aspects of life and challenging the commonly taught linear returns mindset.\n",
      "Propositions:\n",
      "    -One of the most important things I didn't understand about the world when I was a child is the degree to which the returns for performance are superlinear.\n",
      "    -The returns for performance are superlinear.\n",
      "    -The degree to which the returns for performance are superlinear is one of the most important things I didn't understand about the world when I was a child.\n",
      "    -Teachers implicitly told us the returns were linear.\n",
      "    -Coaches implicitly told us the returns were linear.\n",
      "    -I heard 'You get out what you put in' a thousand times.\n",
      "    -It's obviously true that the returns for performance are superlinear in business.\n",
      "    -But superlinear returns for performance are a feature of the world, not an artifact of rules we've invented.\n",
      "    -You can't understand the world without understanding the concept of superlinear returns.\n",
      "    -If you're ambitious you definitely should understand the concept of superlinear returns.\n",
      "    -Understanding the concept of superlinear returns will be the wave you surf on.\n",
      "\n",
      "\n",
      "\n",
      "Chunk #2\n",
      "Chunk ID: af41b\n",
      "Summary: This chunk contains reflections on personal understanding and realizations about the world from childhood to adulthood.\n",
      "Propositions:\n",
      "    -I didn't understand one of the most important things about the world when I was a child.\n",
      "\n",
      "\n",
      "\n",
      "Chunk #3\n",
      "Chunk ID: 45128\n",
      "Summary: This chunk explores the intentions behind actions and the observation of recurring patterns across various domains, including military, knowledge, and societal benefits.\n",
      "Propositions:\n",
      "    -They meant well.\n",
      "    -Some think that if we changed the rules it would stop being true.\n",
      "    -We see the same pattern in military victories.\n",
      "    -We see the same pattern in knowledge.\n",
      "    -We see the same pattern in benefit to humanity.\n",
      "\n",
      "\n",
      "\n",
      "Chunk #4\n",
      "Chunk ID: e62ca\n",
      "Summary: This chunk discusses the frequency or likelihood of certain events or statements being true.\n",
      "Propositions:\n",
      "    -This is rarely true.\n",
      "\n",
      "\n",
      "\n",
      "Chunk #5\n",
      "Chunk ID: 08de9\n",
      "Summary: This chunk discusses strategies and outcomes related to business competition and product quality.\n",
      "Propositions:\n",
      "    -If your product is only half as good as your competitor's, you don't get half as many customers.\n",
      "\n",
      "\n",
      "\n",
      "Chunk #6\n",
      "Chunk ID: 9f25a\n",
      "Summary: This chunk contains information about experiences or situations involving a lack of customers.\n",
      "Propositions:\n",
      "    -You get no customers.\n",
      "\n",
      "\n",
      "\n",
      "Chunk #7\n",
      "Chunk ID: 399af\n",
      "Summary: This chunk contains information about scenarios involving business closure or failure.\n",
      "Propositions:\n",
      "    -You go out of business.\n",
      "\n",
      "\n",
      "\n",
      "Chunk #8\n",
      "Chunk ID: 0deb4\n",
      "Summary: This chunk explores opinions on the economic disparities and perceived injustices within capitalist systems.\n",
      "Propositions:\n",
      "    -Some think this is a flaw of capitalism.\n",
      "    -In all of these, the rich get richer.\n",
      "\n",
      "\n",
      "\n",
      "Chunk #9\n",
      "Chunk ID: 7798f\n",
      "Summary: This chunk discusses observations and patterns related to fame.\n",
      "Propositions:\n",
      "    -We see the same pattern in fame.\n",
      "\n",
      "\n",
      "\n",
      "Chunk #10\n",
      "Chunk ID: 703ed\n",
      "Summary: This chunk discusses observations and patterns related to power dynamics.\n",
      "Propositions:\n",
      "    -We see the same pattern in power.\n",
      "\n",
      "\n",
      "\n"
     ]
    }
   ],
   "source": [
    "\n",
    "ac.pretty_print_chunks()"
   ]
  },
  {
   "cell_type": "code",
   "execution_count": 1,
   "metadata": {},
   "outputs": [
    {
     "name": "stderr",
     "output_type": "stream",
     "text": [
      "/home/nurbo/learning/YerkeChatBot/.venv/lib/python3.10/site-packages/tqdm/auto.py:21: TqdmWarning: IProgress not found. Please update jupyter and ipywidgets. See https://ipywidgets.readthedocs.io/en/stable/user_install.html\n",
      "  from .autonotebook import tqdm as notebook_tqdm\n"
     ]
    }
   ],
   "source": [
    "from transformers import pipeline\n",
    "\n",
    "summarizer = pipeline(\"summarization\", model=\"facebook/bart-large-cnn\")\n",
    "\n",
    "ARTICLE = \"\"\" Take a look around. Now you may be in a bookstore, a coffee shop, a tea house,\n",
    "at work, at home, or anywhere else. Take a look around. Pay attention to people. If you arealone, think about the last time you were around a lot of people. What do those peoplewear, what kind of food do they eat;  what phone does he hold;  do they have their owncars, if so what kind; what kind of house does he live in; and the most important question ishow to make money. Try to find the answers to these questions with your close friends,relatives and loved ones.The world of slaves and masters. Observing all those people, studying their lifestyle and income, you will see that all thepeople around can be divided into three groups: slaves of money, people who do not associate with money, and masters of money. Whether a person is rich, poor, in debt, or owed by others, a hired worker, a businessman, or a politician, everyone is one of these three types of people. But why can we divide people into three groups like this? To understand\n",
    "it, let's give the characteristics of these three groups.\n",
    "\n",
    "The first is people who don't mess with money. For them, money is dirty, happiness is not in money, money is a weapon of evil. If a relative or friend asks him for money for his services, he is offended, and he is ready to work for free without asking for money. Usually such people do not have a lot of money, regardless of salary, they try to do what they like. People around him may or may not understand him - he is not very interested in him.\n",
    "It is enough not to deal with money. If he gets money, he immediately tries to get rid of it: he gives it to his relatives, donates it to charity, scatters it on the field, somehow gets rid of it. Such people are rare. It doesn't even cover 1% of the world's people.\n",
    "\n",
    "Second, slaves of money. As the name suggests, their entire life is governed by money. He asks for money and makes every decision with its consent. If you need to buy clothes, \"what clothes can I buy with my money?\" he asks. When making a choice to travel by bus, taxi, own car, when choosing where and what kind of food to eat, when deciding what gift to get for a child, when deciding what kind of education to get, everything in life is asked for money. Even what he works for,\n",
    "how long he rests, where he lives, what his health is like, who he hangs out with... In general, money decides how he lives his life. He only obeys what the money means. His favorite words are expensive, I don't have enough money, money. 80% of people in the world belong to this group.\n",
    "\n",
    "The third is the masters of money. They have complete control over money. They decide where they want to go, what they want to eat, what they want to see, and what they want to buy. He does not do anything to earn money, to increase money. But still the money keeps increasing. The money he spends\n",
    "every month is less than the money he receives, so his money will increase over time. And those who have more money earn more money. 1% of people in the world are masters of money. At this point, you have three questions: Is it possible to become a master of money? It will be. The entire content of this book is aimed at opening that path.\n",
    "\"\"\"\n",
    "\n",
    "print(summarizer(ARTICLE, max_length=300, min_length=30, do_sample=False))\n",
    "\n"
   ]
  },
  {
   "cell_type": "code",
   "execution_count": 1,
   "metadata": {},
   "outputs": [],
   "source": [
    "from langchain_community.document_loaders import UnstructuredPDFLoader"
   ]
  },
  {
   "cell_type": "code",
   "execution_count": 10,
   "metadata": {},
   "outputs": [],
   "source": [
    "loader = UnstructuredPDFLoader(\"input.pdf\", mode=\"elements\")\n",
    "\n",
    "\n"
   ]
  },
  {
   "cell_type": "code",
   "execution_count": 11,
   "metadata": {},
   "outputs": [],
   "source": [
    "data = loader.load()"
   ]
  },
  {
   "cell_type": "code",
   "execution_count": 14,
   "metadata": {},
   "outputs": [
    {
     "name": "stdout",
     "output_type": "stream",
     "text": [
      "page_content='Machine Translated by Google' metadata={'source': 'input.pdf', 'coordinates': {'points': ((14.7399998, 6.809990000000084), (14.7399998, 16.809990000000084), (150.9099998, 16.809990000000084), (150.9099998, 6.809990000000084)), 'system': 'PixelSpace', 'layout_width': 612, 'layout_height': 792}, 'filename': 'input.pdf', 'languages': ['eng'], 'last_modified': '2024-07-10T14:46:46', 'page_number': 146, 'filetype': 'application/pdf', 'category': 'Header'}\n"
     ]
    }
   ],
   "source": [
    "print(data[-1])"
   ]
  },
  {
   "cell_type": "code",
   "execution_count": 16,
   "metadata": {},
   "outputs": [],
   "source": [
    "with open(\"renamed.txt\", \"r\") as file:\n",
    "    text = file.read().replace(\"\\n\", \" \")\n",
    "\n",
    "with open(\"output.txt\", \"w\") as file:\n",
    "    file.write(text)"
   ]
  },
  {
   "cell_type": "code",
   "execution_count": 19,
   "metadata": {},
   "outputs": [
    {
     "name": "stdout",
     "output_type": "stream",
     "text": [
      "13\n"
     ]
    }
   ],
   "source": [
    "with open(\"renamed.txt\", 'r') as file:\n",
    "    lines = file.read()\n",
    "    lines_divided = lines.split(\"\\n\\n\")\n",
    "    print(len(lines_divided))"
   ]
  },
  {
   "cell_type": "code",
   "execution_count": null,
   "metadata": {},
   "outputs": [],
   "source": []
  }
 ],
 "metadata": {
  "kernelspec": {
   "display_name": ".venv",
   "language": "python",
   "name": "python3"
  },
  "language_info": {
   "codemirror_mode": {
    "name": "ipython",
    "version": 3
   },
   "file_extension": ".py",
   "mimetype": "text/x-python",
   "name": "python",
   "nbconvert_exporter": "python",
   "pygments_lexer": "ipython3",
   "version": "3.10.12"
  }
 },
 "nbformat": 4,
 "nbformat_minor": 2
}
